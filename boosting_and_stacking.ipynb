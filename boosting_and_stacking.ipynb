{
 "cells": [
  {
   "cell_type": "code",
   "execution_count": 1,
   "metadata": {},
   "outputs": [
    {
     "name": "stderr",
     "output_type": "stream",
     "text": [
      "pandas.Int64Index is deprecated and will be removed from pandas in a future version. Use pandas.Index with the appropriate dtype instead.\n"
     ]
    }
   ],
   "source": [
    "# Importing required libraries\n",
    "import json\n",
    "import optuna\n",
    "import pandas as pd\n",
    "import functions as fun\n",
    "import importlib as imp\n",
    "from pathlib import Path\n",
    "\n",
    "import warnings\n",
    "warnings.filterwarnings(\"ignore\")\n",
    "pd.options.display.float_format = \"{: .3f}\".format\n",
    "optuna.logging.set_verbosity(optuna.logging.WARNING)\n",
    "\n",
    "# Setting a path to the directory\n",
    "directory = ''\n",
    "\n",
    "# Receiving hyperparams for sample modifications\n",
    "from configparser import ConfigParser\n",
    "config = ConfigParser()\n",
    "config.read(directory + 'config.cfg')\n",
    "lags = json.loads(config.get('params', 'lags'))\n",
    "log = bool(config.get('params', 'log'))\n",
    "random_state = int(config.get('params', 'random_state'))\n",
    "\n",
    "# Creating directories for storage of the results, if they haven't been created already\n",
    "Path(directory + 'Models/').mkdir(parents = True, exist_ok = True)\n",
    "Path(directory + 'Predictions/').mkdir(parents = True, exist_ok = True)\n",
    "Path(directory + 'Alternative_test/').mkdir(parents = True, exist_ok = True)"
   ]
  },
  {
   "cell_type": "code",
   "execution_count": 10,
   "metadata": {},
   "outputs": [
    {
     "data": {
      "text/plain": [
       "<module 'functions' from 'c:\\\\Users\\\\user\\\\OneDrive\\\\PD\\\\Диплом М\\\\real_estate_price_prediction\\\\functions.py'>"
      ]
     },
     "execution_count": 10,
     "metadata": {},
     "output_type": "execute_result"
    }
   ],
   "source": [
    "imp.reload(fun)"
   ]
  },
  {
   "cell_type": "markdown",
   "metadata": {},
   "source": [
    "### Training of LightGBM, XGBoost and Catboost. Stacking on the validation and test"
   ]
  },
  {
   "cell_type": "code",
   "execution_count": 3,
   "metadata": {},
   "outputs": [
    {
     "name": "stdout",
     "output_type": "stream",
     "text": [
      "\n",
      " LightGBM, 4 lag:\n"
     ]
    },
    {
     "data": {
      "application/vnd.jupyter.widget-view+json": {
       "model_id": "5f76f23d07264eb59fd8116867b4ba65",
       "version_major": 2,
       "version_minor": 0
      },
      "text/plain": [
       "  0%|          | 0/50 [00:00<?, ?it/s]"
      ]
     },
     "metadata": {},
     "output_type": "display_data"
    },
    {
     "name": "stdout",
     "output_type": "stream",
     "text": [
      "Training until validation scores don't improve for 100 rounds\n",
      "[100]\ttraining's rmse: 0.0146455\tvalid_1's rmse: 0.0172566\n",
      "[200]\ttraining's rmse: 0.0127896\tvalid_1's rmse: 0.0168852\n",
      "[300]\ttraining's rmse: 0.0114494\tvalid_1's rmse: 0.016773\n",
      "[400]\ttraining's rmse: 0.010351\tvalid_1's rmse: 0.0167367\n",
      "[500]\ttraining's rmse: 0.00937768\tvalid_1's rmse: 0.0166932\n",
      "Did not meet early stopping. Best iteration is:\n",
      "[500]\ttraining's rmse: 0.00937768\tvalid_1's rmse: 0.0166932\n",
      "Model training 2.056[s]\n",
      "Train score for lgb is:  2955.19\n",
      "Validation score for lgb is:  5697.99\n",
      "Test score for lgb is:  5815.91\n"
     ]
    },
    {
     "name": "stderr",
     "output_type": "stream",
     "text": [
      "PermutationExplainer explainer: 4764it [32:36,  2.43it/s]                          \n"
     ]
    },
    {
     "name": "stdout",
     "output_type": "stream",
     "text": [
      "\n",
      " XGBoost, 4 lag:\n"
     ]
    },
    {
     "data": {
      "application/vnd.jupyter.widget-view+json": {
       "model_id": "a6551a3523004d93975f0df7f57ef94c",
       "version_major": 2,
       "version_minor": 0
      },
      "text/plain": [
       "  0%|          | 0/50 [00:00<?, ?it/s]"
      ]
     },
     "metadata": {},
     "output_type": "display_data"
    },
    {
     "name": "stdout",
     "output_type": "stream",
     "text": [
      "[0]\ttrain-rmse:9.52143\tval-rmse:9.50205\n",
      "[100]\ttrain-rmse:0.01510\tval-rmse:0.01686\n",
      "[200]\ttrain-rmse:0.01348\tval-rmse:0.01651\n",
      "[300]\ttrain-rmse:0.01225\tval-rmse:0.01624\n",
      "[400]\ttrain-rmse:0.01130\tval-rmse:0.01608\n",
      "[499]\ttrain-rmse:0.01050\tval-rmse:0.01601\n",
      "Model training 12.226[s]\n",
      "Train score for xgb is:  3312.34\n",
      "Validation score for xgb is:  5544.04\n",
      "Test score for xgb is:  5574.21\n"
     ]
    },
    {
     "name": "stderr",
     "output_type": "stream",
     "text": [
      "PermutationExplainer explainer: 4764it [11:16,  6.94it/s]                          \n"
     ]
    },
    {
     "name": "stdout",
     "output_type": "stream",
     "text": [
      "\n",
      " CatBoost, 4 lag:\n"
     ]
    },
    {
     "data": {
      "application/vnd.jupyter.widget-view+json": {
       "model_id": "e5fef4ff7e7f4da9b3b8a2cfb9a714e7",
       "version_major": 2,
       "version_minor": 0
      },
      "text/plain": [
       "  0%|          | 0/50 [00:00<?, ?it/s]"
      ]
     },
     "metadata": {},
     "output_type": "display_data"
    },
    {
     "name": "stdout",
     "output_type": "stream",
     "text": [
      "0:\tlearn: 0.5117875\ttest: 0.4944506\tbest: 0.4944506 (0)\ttotal: 5.84ms\tremaining: 5.84s\n",
      "100:\tlearn: 0.0413335\ttest: 0.0424591\tbest: 0.0424591 (100)\ttotal: 518ms\tremaining: 4.61s\n",
      "200:\tlearn: 0.0320065\ttest: 0.0338972\tbest: 0.0338972 (200)\ttotal: 979ms\tremaining: 3.89s\n",
      "300:\tlearn: 0.0280831\ttest: 0.0304905\tbest: 0.0304905 (300)\ttotal: 1.53s\tremaining: 3.55s\n",
      "400:\tlearn: 0.0243012\ttest: 0.0270028\tbest: 0.0270028 (400)\ttotal: 1.98s\tremaining: 2.96s\n",
      "500:\tlearn: 0.0224880\ttest: 0.0255833\tbest: 0.0255833 (500)\ttotal: 2.48s\tremaining: 2.47s\n",
      "600:\tlearn: 0.0211321\ttest: 0.0245305\tbest: 0.0245305 (600)\ttotal: 3s\tremaining: 1.99s\n",
      "700:\tlearn: 0.0199128\ttest: 0.0235702\tbest: 0.0235702 (700)\ttotal: 3.56s\tremaining: 1.52s\n",
      "800:\tlearn: 0.0191576\ttest: 0.0232198\tbest: 0.0231960 (795)\ttotal: 4.01s\tremaining: 996ms\n",
      "900:\tlearn: 0.0185136\ttest: 0.0227873\tbest: 0.0227803 (899)\ttotal: 4.52s\tremaining: 496ms\n",
      "999:\tlearn: 0.0179373\ttest: 0.0224001\tbest: 0.0224001 (999)\ttotal: 4.97s\tremaining: 0us\n",
      "\n",
      "bestTest = 0.02240013204\n",
      "bestIteration = 999\n",
      "\n",
      "Model training 5.475[s]\n",
      "Train score for cat is:  6176.26\n",
      "Validation score for cat is:  8270.74\n",
      "Test score for cat is:  8763.19\n"
     ]
    },
    {
     "name": "stderr",
     "output_type": "stream",
     "text": [
      "PermutationExplainer explainer: 4764it [05:55, 13.02it/s]                          \n"
     ]
    },
    {
     "name": "stdout",
     "output_type": "stream",
     "text": [
      "\n",
      " Stacking, 4 lag:\n",
      "                                 OLS Regression Results                                \n",
      "=======================================================================================\n",
      "Dep. Variable:                   orig   R-squared (uncentered):                   1.000\n",
      "Model:                            OLS   Adj. R-squared (uncentered):              1.000\n",
      "Method:                 Least Squares   F-statistic:                          1.474e+09\n",
      "Date:                Tue, 02 Apr 2024   Prob (F-statistic):                        0.00\n",
      "Time:                        17:51:42   Log-Likelihood:                          13019.\n",
      "No. Observations:                4763   AIC:                                 -2.603e+04\n",
      "Df Residuals:                    4761   BIC:                                 -2.602e+04\n",
      "Df Model:                           2                                                  \n",
      "Covariance Type:            nonrobust                                                  \n",
      "==============================================================================\n",
      "                 coef    std err          t      P>|t|      [0.025      0.975]\n",
      "------------------------------------------------------------------------------\n",
      "lgb            0.3427      0.027     12.773      0.000       0.290       0.395\n",
      "xgb            0.6574      0.027     24.503      0.000       0.605       0.710\n",
      "==============================================================================\n",
      "Omnibus:                      493.224   Durbin-Watson:                   1.973\n",
      "Prob(Omnibus):                  0.000   Jarque-Bera (JB):             3579.442\n",
      "Skew:                           0.198   Prob(JB):                         0.00\n",
      "Kurtosis:                       7.228   Cond. No.                     2.91e+03\n",
      "==============================================================================\n",
      "\n",
      "Notes:\n",
      "[1] R² is computed without centering (uncentered) since the model does not contain a constant.\n",
      "[2] Standard Errors assume that the covariance matrix of the errors is correctly specified.\n",
      "[3] The condition number is large, 2.91e+03. This might indicate that there are\n",
      "strong multicollinearity or other numerical problems.\n",
      "Validation score for the stacked model is:  5265.81\n",
      "Test score for the stacked model is:  5274.117\n",
      "\n",
      " Comparison, 4 lag:\n",
      "    models     valid      test\n",
      "0      lgb  5697.991  5815.907\n",
      "1      xgb  5544.043  5574.208\n",
      "2      cat  8270.735  8763.188\n",
      "3  stacked  5265.810  5274.117\n",
      "\n",
      " LightGBM, 13 lag:\n"
     ]
    },
    {
     "data": {
      "application/vnd.jupyter.widget-view+json": {
       "model_id": "6b071b255c0c42d5ae979e012f2d63ea",
       "version_major": 2,
       "version_minor": 0
      },
      "text/plain": [
       "  0%|          | 0/50 [00:00<?, ?it/s]"
      ]
     },
     "metadata": {},
     "output_type": "display_data"
    },
    {
     "name": "stdout",
     "output_type": "stream",
     "text": [
      "Training until validation scores don't improve for 100 rounds\n",
      "[100]\ttraining's rmse: 0.0220318\tvalid_1's rmse: 0.0273376\n",
      "[200]\ttraining's rmse: 0.0185066\tvalid_1's rmse: 0.0263913\n",
      "[300]\ttraining's rmse: 0.0160139\tvalid_1's rmse: 0.0259781\n",
      "[400]\ttraining's rmse: 0.0140509\tvalid_1's rmse: 0.0259319\n",
      "[500]\ttraining's rmse: 0.0125503\tvalid_1's rmse: 0.0258542\n",
      "Did not meet early stopping. Best iteration is:\n",
      "[500]\ttraining's rmse: 0.0125503\tvalid_1's rmse: 0.0258542\n",
      "Model training 2.173[s]\n",
      "Train score for lgb is:  3811.52\n",
      "Validation score for lgb is:  8416.8\n",
      "Test score for lgb is:  8479.79\n"
     ]
    },
    {
     "name": "stderr",
     "output_type": "stream",
     "text": [
      "PermutationExplainer explainer: 4764it [33:56,  2.33it/s]                          \n"
     ]
    },
    {
     "name": "stdout",
     "output_type": "stream",
     "text": [
      "\n",
      " XGBoost, 13 lag:\n"
     ]
    },
    {
     "data": {
      "application/vnd.jupyter.widget-view+json": {
       "model_id": "774aa365f6244755beebbf453511502a",
       "version_major": 2,
       "version_minor": 0
      },
      "text/plain": [
       "  0%|          | 0/50 [00:00<?, ?it/s]"
      ]
     },
     "metadata": {},
     "output_type": "display_data"
    },
    {
     "name": "stdout",
     "output_type": "stream",
     "text": [
      "[0]\ttrain-rmse:9.53059\tval-rmse:9.51256\n",
      "[100]\ttrain-rmse:0.01999\tval-rmse:0.02623\n",
      "[200]\ttrain-rmse:0.01564\tval-rmse:0.02524\n",
      "[300]\ttrain-rmse:0.01245\tval-rmse:0.02480\n",
      "[400]\ttrain-rmse:0.01024\tval-rmse:0.02449\n",
      "[499]\ttrain-rmse:0.00855\tval-rmse:0.02433\n",
      "Model training 17.630[s]\n",
      "Train score for xgb is:  2559.07\n",
      "Validation score for xgb is:  7803.82\n",
      "Test score for xgb is:  7801.32\n"
     ]
    },
    {
     "name": "stderr",
     "output_type": "stream",
     "text": [
      "PermutationExplainer explainer: 4764it [15:15,  5.15it/s]                          \n"
     ]
    },
    {
     "name": "stdout",
     "output_type": "stream",
     "text": [
      "\n",
      " CatBoost, 13 lag:\n"
     ]
    },
    {
     "data": {
      "application/vnd.jupyter.widget-view+json": {
       "model_id": "a7655b84b753470482f4d290872b7dba",
       "version_major": 2,
       "version_minor": 0
      },
      "text/plain": [
       "  0%|          | 0/50 [00:00<?, ?it/s]"
      ]
     },
     "metadata": {},
     "output_type": "display_data"
    },
    {
     "name": "stdout",
     "output_type": "stream",
     "text": [
      "0:\tlearn: 0.5122676\ttest: 0.4953408\tbest: 0.4953408 (0)\ttotal: 5.28ms\tremaining: 5.27s\n",
      "100:\tlearn: 0.0502483\ttest: 0.0510503\tbest: 0.0510503 (100)\ttotal: 462ms\tremaining: 4.11s\n",
      "200:\tlearn: 0.0386053\ttest: 0.0405312\tbest: 0.0405312 (200)\ttotal: 1.03s\tremaining: 4.1s\n",
      "300:\tlearn: 0.0348667\ttest: 0.0376107\tbest: 0.0376107 (300)\ttotal: 1.51s\tremaining: 3.51s\n",
      "400:\tlearn: 0.0321036\ttest: 0.0354266\tbest: 0.0354266 (400)\ttotal: 1.98s\tremaining: 2.95s\n",
      "500:\tlearn: 0.0305676\ttest: 0.0344361\tbest: 0.0344361 (500)\ttotal: 2.44s\tremaining: 2.43s\n",
      "600:\tlearn: 0.0285849\ttest: 0.0328458\tbest: 0.0328334 (591)\ttotal: 2.92s\tremaining: 1.94s\n",
      "700:\tlearn: 0.0274720\ttest: 0.0322021\tbest: 0.0322021 (700)\ttotal: 3.37s\tremaining: 1.44s\n",
      "800:\tlearn: 0.0263247\ttest: 0.0314547\tbest: 0.0314547 (800)\ttotal: 3.86s\tremaining: 959ms\n",
      "900:\tlearn: 0.0254507\ttest: 0.0309394\tbest: 0.0309394 (900)\ttotal: 4.29s\tremaining: 472ms\n",
      "999:\tlearn: 0.0246429\ttest: 0.0304752\tbest: 0.0304752 (999)\ttotal: 4.78s\tremaining: 0us\n",
      "\n",
      "bestTest = 0.03047523567\n",
      "bestIteration = 999\n",
      "\n",
      "Model training 5.202[s]\n",
      "Train score for cat is:  8276.35\n",
      "Validation score for cat is:  10782.57\n",
      "Test score for cat is:  11283.99\n"
     ]
    },
    {
     "name": "stderr",
     "output_type": "stream",
     "text": [
      "PermutationExplainer explainer: 4764it [05:47, 13.35it/s]                          \n"
     ]
    },
    {
     "name": "stdout",
     "output_type": "stream",
     "text": [
      "\n",
      " Stacking, 13 lag:\n",
      "                                 OLS Regression Results                                \n",
      "=======================================================================================\n",
      "Dep. Variable:                   orig   R-squared (uncentered):                   1.000\n",
      "Model:                            OLS   Adj. R-squared (uncentered):              1.000\n",
      "Method:                 Least Squares   F-statistic:                          6.364e+08\n",
      "Date:                Tue, 02 Apr 2024   Prob (F-statistic):                        0.00\n",
      "Time:                        19:05:05   Log-Likelihood:                          11014.\n",
      "No. Observations:                4763   AIC:                                 -2.202e+04\n",
      "Df Residuals:                    4761   BIC:                                 -2.201e+04\n",
      "Df Model:                           2                                                  \n",
      "Covariance Type:            nonrobust                                                  \n",
      "==============================================================================\n",
      "                 coef    std err          t      P>|t|      [0.025      0.975]\n",
      "------------------------------------------------------------------------------\n",
      "lgb            0.2971      0.025     11.787      0.000       0.248       0.347\n",
      "xgb            0.7029      0.025     27.883      0.000       0.653       0.752\n",
      "==============================================================================\n",
      "Omnibus:                      260.802   Durbin-Watson:                   1.953\n",
      "Prob(Omnibus):                  0.000   Jarque-Bera (JB):              948.704\n",
      "Skew:                           0.145   Prob(JB):                    9.81e-207\n",
      "Kurtosis:                       5.167   Cond. No.                     1.80e+03\n",
      "==============================================================================\n",
      "\n",
      "Notes:\n",
      "[1] R² is computed without centering (uncentered) since the model does not contain a constant.\n",
      "[2] Standard Errors assume that the covariance matrix of the errors is correctly specified.\n",
      "[3] The condition number is large, 1.8e+03. This might indicate that there are\n",
      "strong multicollinearity or other numerical problems.\n",
      "Validation score for the stacked model is:  7633.267\n",
      "Test score for the stacked model is:  7517.742\n",
      "\n",
      " Comparison, 13 lag:\n",
      "    models      valid       test\n",
      "0      lgb   8416.799   8479.791\n",
      "1      xgb   7803.822   7801.324\n",
      "2      cat  10782.573  11283.988\n",
      "3  stacked   7633.267   7517.742\n",
      "\n",
      " LightGBM, 26 lag:\n"
     ]
    },
    {
     "data": {
      "application/vnd.jupyter.widget-view+json": {
       "model_id": "b13d241101ca4a0c9ff07198bd49c547",
       "version_major": 2,
       "version_minor": 0
      },
      "text/plain": [
       "  0%|          | 0/50 [00:00<?, ?it/s]"
      ]
     },
     "metadata": {},
     "output_type": "display_data"
    },
    {
     "name": "stdout",
     "output_type": "stream",
     "text": [
      "Training until validation scores don't improve for 100 rounds\n",
      "[100]\ttraining's rmse: 0.0262088\tvalid_1's rmse: 0.0345046\n",
      "[200]\ttraining's rmse: 0.0210228\tvalid_1's rmse: 0.0333124\n",
      "[300]\ttraining's rmse: 0.0178033\tvalid_1's rmse: 0.0326778\n",
      "[400]\ttraining's rmse: 0.0156715\tvalid_1's rmse: 0.0324154\n",
      "[500]\ttraining's rmse: 0.0141147\tvalid_1's rmse: 0.0323236\n",
      "Did not meet early stopping. Best iteration is:\n",
      "[500]\ttraining's rmse: 0.0141147\tvalid_1's rmse: 0.0323236\n",
      "Model training 3.792[s]\n",
      "Train score for lgb is:  4527.01\n",
      "Validation score for lgb is:  10771.68\n",
      "Test score for lgb is:  10495.9\n"
     ]
    },
    {
     "name": "stderr",
     "output_type": "stream",
     "text": [
      "PermutationExplainer explainer: 4628it [41:58,  1.83it/s]                          \n"
     ]
    },
    {
     "name": "stdout",
     "output_type": "stream",
     "text": [
      "\n",
      " XGBoost, 26 lag:\n"
     ]
    },
    {
     "data": {
      "application/vnd.jupyter.widget-view+json": {
       "model_id": "e217eab1c5464ea399101e08bca543c3",
       "version_major": 2,
       "version_minor": 0
      },
      "text/plain": [
       "  0%|          | 0/50 [00:00<?, ?it/s]"
      ]
     },
     "metadata": {},
     "output_type": "display_data"
    },
    {
     "name": "stdout",
     "output_type": "stream",
     "text": [
      "[0]\ttrain-rmse:9.53370\tval-rmse:9.53298\n",
      "[100]\ttrain-rmse:0.03043\tval-rmse:0.03591\n",
      "[200]\ttrain-rmse:0.02490\tval-rmse:0.03421\n",
      "[300]\ttrain-rmse:0.02137\tval-rmse:0.03355\n",
      "[400]\ttrain-rmse:0.01853\tval-rmse:0.03304\n",
      "[499]\ttrain-rmse:0.01631\tval-rmse:0.03268\n",
      "Model training 13.371[s]\n",
      "Train score for xgb is:  4837.88\n",
      "Validation score for xgb is:  10271.29\n",
      "Test score for xgb is:  10720.08\n"
     ]
    },
    {
     "name": "stderr",
     "output_type": "stream",
     "text": [
      "PermutationExplainer explainer: 4628it [12:44,  5.97it/s]                          \n"
     ]
    },
    {
     "name": "stdout",
     "output_type": "stream",
     "text": [
      "\n",
      " CatBoost, 26 lag:\n"
     ]
    },
    {
     "data": {
      "application/vnd.jupyter.widget-view+json": {
       "model_id": "54abcbb11d704330baf3801f69a406d8",
       "version_major": 2,
       "version_minor": 0
      },
      "text/plain": [
       "  0%|          | 0/50 [00:00<?, ?it/s]"
      ]
     },
     "metadata": {},
     "output_type": "display_data"
    },
    {
     "name": "stdout",
     "output_type": "stream",
     "text": [
      "0:\tlearn: 0.5133508\ttest: 0.5038064\tbest: 0.5038064 (0)\ttotal: 5ms\tremaining: 4.99s\n",
      "100:\tlearn: 0.0537654\ttest: 0.0559457\tbest: 0.0559457 (100)\ttotal: 483ms\tremaining: 4.3s\n",
      "200:\tlearn: 0.0442018\ttest: 0.0469129\tbest: 0.0469018 (198)\ttotal: 950ms\tremaining: 3.77s\n",
      "300:\tlearn: 0.0407855\ttest: 0.0442927\tbest: 0.0442927 (300)\ttotal: 1.37s\tremaining: 3.19s\n",
      "400:\tlearn: 0.0383668\ttest: 0.0427178\tbest: 0.0427178 (400)\ttotal: 1.85s\tremaining: 2.77s\n",
      "500:\tlearn: 0.0363670\ttest: 0.0414628\tbest: 0.0414628 (500)\ttotal: 2.28s\tremaining: 2.27s\n",
      "600:\tlearn: 0.0349519\ttest: 0.0405974\tbest: 0.0405974 (600)\ttotal: 2.76s\tremaining: 1.83s\n",
      "700:\tlearn: 0.0336628\ttest: 0.0399686\tbest: 0.0399686 (700)\ttotal: 3.21s\tremaining: 1.37s\n",
      "800:\tlearn: 0.0323745\ttest: 0.0392613\tbest: 0.0392613 (800)\ttotal: 3.67s\tremaining: 913ms\n",
      "900:\tlearn: 0.0315645\ttest: 0.0389537\tbest: 0.0389423 (897)\ttotal: 4.1s\tremaining: 450ms\n",
      "999:\tlearn: 0.0306673\ttest: 0.0385412\tbest: 0.0385412 (999)\ttotal: 4.55s\tremaining: 0us\n",
      "\n",
      "bestTest = 0.03854121349\n",
      "bestIteration = 999\n",
      "\n",
      "Model training 5.331[s]\n",
      "Train score for cat is:  9934.79\n",
      "Validation score for cat is:  13566.8\n",
      "Test score for cat is:  13183.76\n"
     ]
    },
    {
     "name": "stderr",
     "output_type": "stream",
     "text": [
      "PermutationExplainer explainer: 4628it [05:26, 13.75it/s]                          \n"
     ]
    },
    {
     "name": "stdout",
     "output_type": "stream",
     "text": [
      "\n",
      " Stacking, 26 lag:\n",
      "                                 OLS Regression Results                                \n",
      "=======================================================================================\n",
      "Dep. Variable:                   orig   R-squared (uncentered):                   1.000\n",
      "Model:                            OLS   Adj. R-squared (uncentered):              1.000\n",
      "Method:                 Least Squares   F-statistic:                          3.652e+08\n",
      "Date:                Tue, 02 Apr 2024   Prob (F-statistic):                        0.00\n",
      "Time:                        20:22:26   Log-Likelihood:                          9471.7\n",
      "No. Observations:                4627   AIC:                                 -1.894e+04\n",
      "Df Residuals:                    4625   BIC:                                 -1.893e+04\n",
      "Df Model:                           2                                                  \n",
      "Covariance Type:            nonrobust                                                  \n",
      "==============================================================================\n",
      "                 coef    std err          t      P>|t|      [0.025      0.975]\n",
      "------------------------------------------------------------------------------\n",
      "lgb            0.5355      0.026     20.769      0.000       0.485       0.586\n",
      "xgb            0.4644      0.026     18.011      0.000       0.414       0.515\n",
      "==============================================================================\n",
      "Omnibus:                      248.620   Durbin-Watson:                   1.989\n",
      "Prob(Omnibus):                  0.000   Jarque-Bera (JB):              945.019\n",
      "Skew:                          -0.093   Prob(JB):                    6.19e-206\n",
      "Kurtosis:                       5.206   Cond. No.                     1.39e+03\n",
      "==============================================================================\n",
      "\n",
      "Notes:\n",
      "[1] R² is computed without centering (uncentered) since the model does not contain a constant.\n",
      "[2] Standard Errors assume that the covariance matrix of the errors is correctly specified.\n",
      "[3] The condition number is large, 1.39e+03. This might indicate that there are\n",
      "strong multicollinearity or other numerical problems.\n",
      "Validation score for the stacked model is:  9968.613\n",
      "Test score for the stacked model is:  10041.655\n",
      "\n",
      " Comparison, 26 lag:\n",
      "    models      valid       test\n",
      "0      lgb  10771.676  10495.897\n",
      "1      xgb  10271.295  10720.080\n",
      "2      cat  13566.801  13183.759\n",
      "3  stacked   9968.613  10041.655\n"
     ]
    },
    {
     "data": {
      "image/png": "[encoded data removed]",
      "text/plain": [
       "<Figure size 800x550 with 1 Axes>"
      ]
     },
     "metadata": {},
     "output_type": "display_data"
    }
   ],
   "source": [
    "# Iterate over lags to split data, create models and calculate stacking\n",
    "for lag in lags:\n",
    "    Path(directory + f'Models/{lag}/').mkdir(parents = True, exist_ok = True)\n",
    "    Path(directory + f'Predictions/{lag}/').mkdir(parents = True, exist_ok = True)\n",
    "    fun.optuna_and_boosting(lag, random_state, directory = directory)"
   ]
  },
  {
   "cell_type": "markdown",
   "metadata": {},
   "source": [
    "### Estimation of the model on the Case-Shiller index"
   ]
  },
  {
   "cell_type": "code",
   "execution_count": 11,
   "metadata": {},
   "outputs": [
    {
     "name": "stdout",
     "output_type": "stream",
     "text": [
      "\n",
      " 2008 stacking, 4 lag:\n",
      "\n",
      " Start date : 2003-01-01, end date: 2025-01-01\n",
      "Final RMSE for Case-Shiller: 2242.05\n",
      "Final RMSE for Case-Shiller with smoothed predictions is: 2009.94\n",
      "\n",
      " Start date : 2003-01-01, end date: 2010-01-01\n",
      "Final RMSE for Case-Shiller: 2975.273\n",
      "Final RMSE for Case-Shiller with smoothed predictions is: 2856.586\n",
      "\n",
      " Start date : 2010-01-01, end date: 2018-01-01\n",
      "Final RMSE for Case-Shiller: 1375.758\n",
      "Final RMSE for Case-Shiller with smoothed predictions is: 1110.665\n",
      "\n",
      " Start date : 2018-01-01, end date: 2025-01-01\n",
      "Final RMSE for Case-Shiller: 2378.139\n",
      "Final RMSE for Case-Shiller with smoothed predictions is: 1981.697\n",
      "\n",
      " 2008 stacking, 13 lag:\n",
      "\n",
      " Start date : 2003-01-01, end date: 2025-01-01\n",
      "Final RMSE for Case-Shiller: 7182.02\n",
      "Final RMSE for Case-Shiller with smoothed predictions is: 6044.992\n",
      "\n",
      " Start date : 2003-01-01, end date: 2010-01-01\n",
      "Final RMSE for Case-Shiller: 10380.332\n",
      "Final RMSE for Case-Shiller with smoothed predictions is: 9974.363\n",
      "\n",
      " Start date : 2010-01-01, end date: 2018-01-01\n",
      "Final RMSE for Case-Shiller: 3963.906\n",
      "Final RMSE for Case-Shiller with smoothed predictions is: 2210.441\n",
      "\n",
      " Start date : 2018-01-01, end date: 2025-01-01\n",
      "Final RMSE for Case-Shiller: 6834.538\n",
      "Final RMSE for Case-Shiller with smoothed predictions is: 4382.027\n",
      "\n",
      " 2008 stacking, 26 lag:\n",
      "\n",
      " Start date : 2003-01-01, end date: 2025-01-01\n",
      "Final RMSE for Case-Shiller: 8952.761\n",
      "Final RMSE for Case-Shiller with smoothed predictions is: 6947.07\n",
      "\n",
      " Start date : 2003-01-01, end date: 2010-01-01\n",
      "Final RMSE for Case-Shiller: 10850.05\n",
      "Final RMSE for Case-Shiller with smoothed predictions is: 10319.326\n",
      "\n",
      " Start date : 2010-01-01, end date: 2018-01-01\n",
      "Final RMSE for Case-Shiller: 6205.332\n",
      "Final RMSE for Case-Shiller with smoothed predictions is: 3904.35\n",
      "\n",
      " Start date : 2018-01-01, end date: 2025-01-01\n",
      "Final RMSE for Case-Shiller: 10120.035\n",
      "Final RMSE for Case-Shiller with smoothed predictions is: 6077.45\n"
     ]
    }
   ],
   "source": [
    "# Iterate over lags to calculate separate stacking models with smoothening\n",
    "periods = [[pd.to_datetime('2003-01-01'), pd.to_datetime('2025-01-01')],\n",
    "           [pd.to_datetime('2003-01-01'), pd.to_datetime('2010-01-01')],\n",
    "           [pd.to_datetime('2010-01-01'), pd.to_datetime('2018-01-01')],\n",
    "           [pd.to_datetime('2018-01-01'), pd.to_datetime('2025-01-01')]]\n",
    "for lag in lags:\n",
    "    Path(directory + f'Alternative_test/{lag}/').mkdir(parents = True, exist_ok = True)\n",
    "    fun.check_2008(lag, periods = periods, directory = directory)"
   ]
  },
  {
   "cell_type": "markdown",
   "metadata": {},
   "source": [
    "### Distribution of target and prediction on the validation and test"
   ]
  },
  {
   "cell_type": "code",
   "execution_count": 61,
   "metadata": {},
   "outputs": [],
   "source": [
    "# Iterate over lags to calculate distributions of target and predictions\n",
    "for lag in lags:\n",
    "    fun.target_pred_dist(lag, directory = directory)"
   ]
  },
  {
   "cell_type": "markdown",
   "metadata": {},
   "source": [
    "### Get hyperparameters of the LightGBM, XGBoost and CatBoost"
   ]
  },
  {
   "cell_type": "code",
   "execution_count": 8,
   "metadata": {},
   "outputs": [
    {
     "name": "stdout",
     "output_type": "stream",
     "text": [
      "\n",
      " LightGBM, 4 lag:\n",
      "{'boosting': 'gbdt', 'objective': 'regression', 'metric': ['rmse'], 'tree_learner': 'serial', 'device_type': 'cpu', 'num_iterations': 500, 'learning_rate': 0.25, 'num_leaves': 44, 'num_threads': 0, 'deterministic': False, 'force_col_wise': False, 'force_row_wise': False, 'histogram_pool_size': -1, 'max_depth': 6, 'min_data_in_leaf': 25, 'min_sum_hessian_in_leaf': 0.001, 'bagging_fraction': 0.933217, 'pos_bagging_fraction': 1, 'neg_bagging_fraction': 1, 'bagging_freq': 6, 'bagging_seed': 4542, 'feature_fraction': 0.93094, 'feature_fraction_bynode': 1, 'feature_fraction_seed': 13336, 'extra_trees': False, 'extra_seed': 29642, 'early_stopping_round': 100, 'first_metric_only': False, 'max_delta_step': 0, 'lambda_l1': 2.00532e-07, 'lambda_l2': 0.000408206, 'linear_lambda': 0, 'min_gain_to_split': 0, 'drop_rate': 0.1, 'max_drop': 50, 'skip_drop': 0.5, 'xgboost_dart_mode': False, 'uniform_drop': False, 'drop_seed': 2449, 'top_rate': 0.2, 'other_rate': 0.1, 'min_data_per_group': 100, 'max_cat_threshold': 32, 'cat_l2': 10, 'cat_smooth': 10, 'max_cat_to_onehot': 4, 'top_k': 20, 'monotone_constraints_method': 'basic', 'monotone_penalty': 0, 'refit_decay_rate': 0.9, 'cegb_tradeoff': 1, 'cegb_penalty_split': 0, 'path_smooth': 0, 'verbosity': -1, 'saved_feature_importance_type': 0, 'linear_tree': False, 'max_bin': 255, 'min_data_in_bin': 3, 'bin_construct_sample_cnt': 200000, 'data_random_seed': 6648, 'is_enable_sparse': True, 'enable_bundle': True, 'use_missing': True, 'zero_as_missing': False, 'feature_pre_filter': True, 'pre_partition': False, 'two_round': False, 'header': False, 'precise_float_parser': False, 'objective_seed': 12337, 'num_class': 1, 'is_unbalance': False, 'scale_pos_weight': 1, 'sigmoid': 1, 'boost_from_average': True, 'reg_sqrt': False, 'alpha': 0.9, 'fair_c': 1, 'poisson_max_delta_step': 0.7, 'tweedie_variance_power': 1.5, 'lambdarank_truncation_level': 30, 'lambdarank_norm': True, 'multi_error_top_k': 1, 'num_machines': 1, 'local_listen_port': 12400, 'time_out': 120, 'gpu_platform_id': -1, 'gpu_device_id': -1, 'gpu_use_dp': False, 'num_gpu': 1}\n",
      "\n",
      " XGBoost, 4 lag:\n",
      "{'objective': 'reg:squarederror', 'base_score': '5E-1', 'booster': 'gbtree', 'colsample_bylevel': None, 'colsample_bynode': None, 'colsample_bytree': None, 'device': None, 'eval_metric': None, 'gamma': None, 'grow_policy': None, 'interaction_constraints': None, 'learning_rate': None, 'max_bin': None, 'max_cat_threshold': None, 'max_cat_to_onehot': None, 'max_delta_step': None, 'max_depth': None, 'max_leaves': None, 'min_child_weight': None, 'monotone_constraints': None, 'multi_strategy': None, 'n_jobs': None, 'num_parallel_tree': None, 'random_state': None, 'reg_alpha': None, 'reg_lambda': None, 'sampling_method': None, 'scale_pos_weight': None, 'subsample': None, 'tree_method': None, 'validate_parameters': None, 'verbosity': None}\n",
      "\n",
      " CatBoost, 4 lag:\n",
      "{'use_best_model': True, 'rsm': 0.09820411711, 'bootstrap_type': 'Bayesian', 'od_wait': 100, 'boosting_type': 'Plain', 'od_type': 'Iter', 'verbose': 100, 'bagging_temperature': 0.726688145, 'loss_function': 'RMSE', 'l2_leaf_reg': 0.01591532651, 'depth': 6, 'learning_rate': 0.2, 'random_seed': 2024}\n",
      "\n",
      " LightGBM, 13 lag:\n",
      "{'boosting': 'gbdt', 'objective': 'regression', 'metric': ['rmse'], 'tree_learner': 'serial', 'device_type': 'cpu', 'num_iterations': 500, 'learning_rate': 0.35, 'num_leaves': 64, 'num_threads': 0, 'deterministic': False, 'force_col_wise': False, 'force_row_wise': False, 'histogram_pool_size': -1, 'max_depth': 6, 'min_data_in_leaf': 36, 'min_sum_hessian_in_leaf': 0.001, 'bagging_fraction': 0.999611, 'pos_bagging_fraction': 1, 'neg_bagging_fraction': 1, 'bagging_freq': 6, 'bagging_seed': 4542, 'feature_fraction': 0.96008, 'feature_fraction_bynode': 1, 'feature_fraction_seed': 13336, 'extra_trees': False, 'extra_seed': 29642, 'early_stopping_round': 100, 'first_metric_only': False, 'max_delta_step': 0, 'lambda_l1': 0.000312343, 'lambda_l2': 5.39392e-06, 'linear_lambda': 0, 'min_gain_to_split': 0, 'drop_rate': 0.1, 'max_drop': 50, 'skip_drop': 0.5, 'xgboost_dart_mode': False, 'uniform_drop': False, 'drop_seed': 2449, 'top_rate': 0.2, 'other_rate': 0.1, 'min_data_per_group': 100, 'max_cat_threshold': 32, 'cat_l2': 10, 'cat_smooth': 10, 'max_cat_to_onehot': 4, 'top_k': 20, 'monotone_constraints_method': 'basic', 'monotone_penalty': 0, 'refit_decay_rate': 0.9, 'cegb_tradeoff': 1, 'cegb_penalty_split': 0, 'path_smooth': 0, 'verbosity': -1, 'saved_feature_importance_type': 0, 'linear_tree': False, 'max_bin': 255, 'min_data_in_bin': 3, 'bin_construct_sample_cnt': 200000, 'data_random_seed': 6648, 'is_enable_sparse': True, 'enable_bundle': True, 'use_missing': True, 'zero_as_missing': False, 'feature_pre_filter': True, 'pre_partition': False, 'two_round': False, 'header': False, 'precise_float_parser': False, 'objective_seed': 12337, 'num_class': 1, 'is_unbalance': False, 'scale_pos_weight': 1, 'sigmoid': 1, 'boost_from_average': True, 'reg_sqrt': False, 'alpha': 0.9, 'fair_c': 1, 'poisson_max_delta_step': 0.7, 'tweedie_variance_power': 1.5, 'lambdarank_truncation_level': 30, 'lambdarank_norm': True, 'multi_error_top_k': 1, 'num_machines': 1, 'local_listen_port': 12400, 'time_out': 120, 'gpu_platform_id': -1, 'gpu_device_id': -1, 'gpu_use_dp': False, 'num_gpu': 1}\n",
      "\n",
      " XGBoost, 13 lag:\n",
      "{'objective': 'reg:squarederror', 'base_score': '5E-1', 'booster': 'gbtree', 'colsample_bylevel': None, 'colsample_bynode': None, 'colsample_bytree': None, 'device': None, 'eval_metric': None, 'gamma': None, 'grow_policy': None, 'interaction_constraints': None, 'learning_rate': None, 'max_bin': None, 'max_cat_threshold': None, 'max_cat_to_onehot': None, 'max_delta_step': None, 'max_depth': None, 'max_leaves': None, 'min_child_weight': None, 'monotone_constraints': None, 'multi_strategy': None, 'n_jobs': None, 'num_parallel_tree': None, 'random_state': None, 'reg_alpha': None, 'reg_lambda': None, 'sampling_method': None, 'scale_pos_weight': None, 'subsample': None, 'tree_method': None, 'validate_parameters': None, 'verbosity': None}\n",
      "\n",
      " CatBoost, 13 lag:\n",
      "{'use_best_model': True, 'rsm': 0.09256177246, 'bootstrap_type': 'Bayesian', 'od_wait': 100, 'boosting_type': 'Plain', 'od_type': 'Iter', 'verbose': 100, 'bagging_temperature': 0.01101190512, 'loss_function': 'RMSE', 'l2_leaf_reg': 1.866824576, 'depth': 6, 'learning_rate': 0.2, 'random_seed': 2024}\n",
      "\n",
      " LightGBM, 26 lag:\n",
      "{'boosting': 'gbdt', 'objective': 'regression', 'metric': ['rmse'], 'tree_learner': 'serial', 'device_type': 'cpu', 'num_iterations': 500, 'learning_rate': 0.2, 'num_leaves': 128, 'num_threads': 0, 'deterministic': False, 'force_col_wise': False, 'force_row_wise': False, 'histogram_pool_size': -1, 'max_depth': 7, 'min_data_in_leaf': 10, 'min_sum_hessian_in_leaf': 0.001, 'bagging_fraction': 0.899068, 'pos_bagging_fraction': 1, 'neg_bagging_fraction': 1, 'bagging_freq': 2, 'bagging_seed': 4542, 'feature_fraction': 0.962103, 'feature_fraction_bynode': 1, 'feature_fraction_seed': 13336, 'extra_trees': False, 'extra_seed': 29642, 'early_stopping_round': 100, 'first_metric_only': False, 'max_delta_step': 0, 'lambda_l1': 0.207476, 'lambda_l2': 3.22713e-05, 'linear_lambda': 0, 'min_gain_to_split': 0, 'drop_rate': 0.1, 'max_drop': 50, 'skip_drop': 0.5, 'xgboost_dart_mode': False, 'uniform_drop': False, 'drop_seed': 2449, 'top_rate': 0.2, 'other_rate': 0.1, 'min_data_per_group': 100, 'max_cat_threshold': 32, 'cat_l2': 10, 'cat_smooth': 10, 'max_cat_to_onehot': 4, 'top_k': 20, 'monotone_constraints_method': 'basic', 'monotone_penalty': 0, 'refit_decay_rate': 0.9, 'cegb_tradeoff': 1, 'cegb_penalty_split': 0, 'path_smooth': 0, 'verbosity': -1, 'saved_feature_importance_type': 0, 'linear_tree': False, 'max_bin': 255, 'min_data_in_bin': 3, 'bin_construct_sample_cnt': 200000, 'data_random_seed': 6648, 'is_enable_sparse': True, 'enable_bundle': True, 'use_missing': True, 'zero_as_missing': False, 'feature_pre_filter': True, 'pre_partition': False, 'two_round': False, 'header': False, 'precise_float_parser': False, 'objective_seed': 12337, 'num_class': 1, 'is_unbalance': False, 'scale_pos_weight': 1, 'sigmoid': 1, 'boost_from_average': True, 'reg_sqrt': False, 'alpha': 0.9, 'fair_c': 1, 'poisson_max_delta_step': 0.7, 'tweedie_variance_power': 1.5, 'lambdarank_truncation_level': 30, 'lambdarank_norm': True, 'multi_error_top_k': 1, 'num_machines': 1, 'local_listen_port': 12400, 'time_out': 120, 'gpu_platform_id': -1, 'gpu_device_id': -1, 'gpu_use_dp': False, 'num_gpu': 1}\n",
      "\n",
      " XGBoost, 26 lag:\n",
      "{'objective': 'reg:squarederror', 'base_score': '5E-1', 'booster': 'gbtree', 'colsample_bylevel': None, 'colsample_bynode': None, 'colsample_bytree': None, 'device': None, 'eval_metric': None, 'gamma': None, 'grow_policy': None, 'interaction_constraints': None, 'learning_rate': None, 'max_bin': None, 'max_cat_threshold': None, 'max_cat_to_onehot': None, 'max_delta_step': None, 'max_depth': None, 'max_leaves': None, 'min_child_weight': None, 'monotone_constraints': None, 'multi_strategy': None, 'n_jobs': None, 'num_parallel_tree': None, 'random_state': None, 'reg_alpha': None, 'reg_lambda': None, 'sampling_method': None, 'scale_pos_weight': None, 'subsample': None, 'tree_method': None, 'validate_parameters': None, 'verbosity': None}\n",
      "\n",
      " CatBoost, 26 lag:\n",
      "{'use_best_model': True, 'rsm': 0.09186822304, 'bootstrap_type': 'Bayesian', 'od_wait': 100, 'boosting_type': 'Plain', 'od_type': 'Iter', 'verbose': 100, 'bagging_temperature': 0.01101190512, 'loss_function': 'RMSE', 'l2_leaf_reg': 0.0007391120002, 'depth': 6, 'learning_rate': 0.2, 'random_seed': 2024}\n"
     ]
    }
   ],
   "source": [
    "# Iterate over lags to get boosting hyperparameters\n",
    "for lag in lags:\n",
    "    fun.boosting_hyperparameters(lag, directory = directory)"
   ]
  },
  {
   "cell_type": "markdown",
   "metadata": {},
   "source": [
    "### Training of the OLS benchmark"
   ]
  },
  {
   "cell_type": "code",
   "execution_count": 2,
   "metadata": {},
   "outputs": [
    {
     "name": "stdout",
     "output_type": "stream",
     "text": [
      "\n",
      " OLS benchmark, 4 lag:\n",
      "                            OLS Regression Results                            \n",
      "==============================================================================\n",
      "Dep. Variable:      target_4_week_fut   R-squared:                       0.999\n",
      "Model:                            OLS   Adj. R-squared:                  0.999\n",
      "Method:                 Least Squares   F-statistic:                 6.717e+05\n",
      "Date:                Tue, 09 Apr 2024   Prob (F-statistic):               0.00\n",
      "Time:                        15:03:35   Log-Likelihood:                 84849.\n",
      "No. Observations:               32591   AIC:                        -1.696e+05\n",
      "Df Residuals:                   32548   BIC:                        -1.693e+05\n",
      "Df Model:                          42                                         \n",
      "Covariance Type:            nonrobust                                         \n",
      "================================================================================================\n",
      "                                   coef    std err          t      P>|t|      [0.025      0.975]\n",
      "------------------------------------------------------------------------------------------------\n",
      "const                            0.0161      0.003      6.299      0.000       0.011       0.021\n",
      "target                           0.9991      0.000   4836.208      0.000       0.999       1.000\n",
      "target_4_week_logdyn             0.0010      0.000      7.626      0.000       0.001       0.001\n",
      "target_13_week_logdyn            0.0012      0.000      6.371      0.000       0.001       0.002\n",
      "target_26_week_logdyn           -0.0029      0.000    -17.803      0.000      -0.003      -0.003\n",
      "PPI                              0.0125      0.002      7.718      0.000       0.009       0.016\n",
      "Water                            0.0118      0.001      8.304      0.000       0.009       0.015\n",
      "Plywood                         -0.0213      0.001    -19.018      0.000      -0.023      -0.019\n",
      "Glass                            0.0147      0.002      7.841      0.000       0.011       0.018\n",
      "Concrete                        -0.0268      0.002    -13.768      0.000      -0.031      -0.023\n",
      "Unemployment                     0.0026      0.000      7.340      0.000       0.002       0.003\n",
      "Yield10Y                         0.0030      0.000      8.707      0.000       0.002       0.004\n",
      "DJI                             -0.0039      0.001     -2.645      0.008      -0.007      -0.001\n",
      "S&P500                           0.0077      0.002      4.546      0.000       0.004       0.011\n",
      "CPI_4_week_logdyn                0.0034      0.000     14.151      0.000       0.003       0.004\n",
      "PPI_4_week_logdyn               -0.0025      0.000    -10.118      0.000      -0.003      -0.002\n",
      "MortgageRate30_4_week_logdyn    -0.0005      0.000     -3.578      0.000      -0.001      -0.000\n",
      "Plywood_4_week_logdyn            0.0017      0.000      7.237      0.000       0.001       0.002\n",
      "Glass_4_week_logdyn             -0.0018      0.000    -11.094      0.000      -0.002      -0.002\n",
      "Concrete_4_week_logdyn          -0.0008      0.000     -3.719      0.000      -0.001      -0.000\n",
      "Unemployment_4_week_logdyn      -0.0009      0.000     -5.518      0.000      -0.001      -0.001\n",
      "DJI_4_week_logdyn                0.0029      0.001      5.215      0.000       0.002       0.004\n",
      "S&P500_4_week_logdyn            -0.0039      0.001     -7.042      0.000      -0.005      -0.003\n",
      "KeyRate_13_week_logdyn           0.0007      0.000      3.063      0.002       0.000       0.001\n",
      "CPI_13_week_logdyn               0.0035      0.000      8.062      0.000       0.003       0.004\n",
      "Water_13_week_logdyn            -0.0008      0.000     -5.514      0.000      -0.001      -0.001\n",
      "Plywood_13_week_logdyn           0.0039      0.000     12.538      0.000       0.003       0.005\n",
      "Glass_13_week_logdyn             0.0017      0.000      6.691      0.000       0.001       0.002\n",
      "Concrete_13_week_logdyn          0.0069      0.000     18.239      0.000       0.006       0.008\n",
      "Yield10Y_13_week_logdyn         -0.0022      0.000     -8.176      0.000      -0.003      -0.002\n",
      "DJI_13_week_logdyn              -0.0035      0.001     -5.937      0.000      -0.005      -0.002\n",
      "S&P500_13_week_logdyn            0.0033      0.001      5.823      0.000       0.002       0.004\n",
      "KeyRate_26_week_logdyn           0.0029      0.000      7.025      0.000       0.002       0.004\n",
      "CPI_26_week_logdyn              -0.0112      0.001    -21.857      0.000      -0.012      -0.010\n",
      "PPI_26_week_logdyn               0.0030      0.000      6.376      0.000       0.002       0.004\n",
      "Water_26_week_logdyn             0.0019      0.000      5.733      0.000       0.001       0.002\n",
      "Plywood_26_week_logdyn           0.0015      0.001      2.813      0.005       0.000       0.003\n",
      "Steel_26_week_logdyn             0.0014      0.000      5.765      0.000       0.001       0.002\n",
      "Glass_26_week_logdyn             0.0022      0.000      7.271      0.000       0.002       0.003\n",
      "Concrete_26_week_logdyn          0.0031      0.001      5.742      0.000       0.002       0.004\n",
      "Unemployment_26_week_logdyn      0.0018      0.000      5.262      0.000       0.001       0.003\n",
      "Yield10Y_26_week_logdyn          0.0030      0.000      8.761      0.000       0.002       0.004\n",
      "DJI_26_week_logdyn               0.0008      0.000      3.534      0.000       0.000       0.001\n",
      "==============================================================================\n",
      "Omnibus:                     4091.767   Durbin-Watson:                   1.992\n",
      "Prob(Omnibus):                  0.000   Jarque-Bera (JB):            47626.483\n",
      "Skew:                          -0.085   Prob(JB):                         0.00\n",
      "Kurtosis:                       8.920   Cond. No.                         338.\n",
      "==============================================================================\n",
      "\n",
      "Notes:\n",
      "[1] Standard Errors assume that the covariance matrix of the errors is correctly specified.\n",
      "Train score for OLS benchmark is:  6260.954\n",
      "Validation score for OLS benchmark is:  6176.287\n",
      "Test score for OLS benchmark is:  6407.752\n",
      "Test score for OLS benchmark on Case-Shiller data is:  1820.272\n",
      "\n",
      " OLS benchmark, 13 lag:\n",
      "                            OLS Regression Results                            \n",
      "==============================================================================\n",
      "Dep. Variable:     target_13_week_fut   R-squared:                       0.996\n",
      "Model:                            OLS   Adj. R-squared:                  0.996\n",
      "Method:                 Least Squares   F-statistic:                 1.613e+05\n",
      "Date:                Tue, 09 Apr 2024   Prob (F-statistic):               0.00\n",
      "Time:                        15:03:38   Log-Likelihood:                 65379.\n",
      "No. Observations:               32591   AIC:                        -1.306e+05\n",
      "Df Residuals:                   32537   BIC:                        -1.302e+05\n",
      "Df Model:                          53                                         \n",
      "Covariance Type:            nonrobust                                         \n",
      "=================================================================================================\n",
      "                                    coef    std err          t      P>|t|      [0.025      0.975]\n",
      "-------------------------------------------------------------------------------------------------\n",
      "const                             0.0437      0.005      9.393      0.000       0.035       0.053\n",
      "target                            0.9978      0.000   2656.844      0.000       0.997       0.999\n",
      "target_4_week_logdyn              0.0025      0.000     10.353      0.000       0.002       0.003\n",
      "target_13_week_logdyn             0.0017      0.000      5.212      0.000       0.001       0.002\n",
      "target_26_week_logdyn            -0.0093      0.000    -31.428      0.000      -0.010      -0.009\n",
      "KeyRate                          -0.0053      0.001     -3.729      0.000      -0.008      -0.003\n",
      "CPI                               0.0148      0.005      2.805      0.005       0.004       0.025\n",
      "VIX                              -0.0038      0.001     -5.973      0.000      -0.005      -0.003\n",
      "PPI                               0.0264      0.004      6.613      0.000       0.019       0.034\n",
      "MortgageRate30                    0.0051      0.002      2.154      0.031       0.000       0.010\n",
      "Water                             0.0519      0.004     14.272      0.000       0.045       0.059\n",
      "Plywood                          -0.0518      0.003    -20.409      0.000      -0.057      -0.047\n",
      "Steel                             0.0100      0.002      5.369      0.000       0.006       0.014\n",
      "Glass                             0.0863      0.005     17.232      0.000       0.076       0.096\n",
      "Concrete                         -0.1246      0.006    -22.413      0.000      -0.135      -0.114\n",
      "Unemployment                      0.0053      0.001      5.992      0.000       0.004       0.007\n",
      "Yield10Y                          0.0097      0.002      5.193      0.000       0.006       0.013\n",
      "DJI                              -0.0537      0.006     -8.413      0.000      -0.066      -0.041\n",
      "S&P500                            0.0455      0.007      6.169      0.000       0.031       0.060\n",
      "CPI_4_week_logdyn                 0.0079      0.000     18.801      0.000       0.007       0.009\n",
      "PPI_4_week_logdyn                -0.0043      0.000     -9.996      0.000      -0.005      -0.003\n",
      "Electricity_4_week_logdyn        -0.0015      0.000     -5.319      0.000      -0.002      -0.001\n",
      "Water_4_week_logdyn              -0.0006      0.000     -2.507      0.012      -0.001      -0.000\n",
      "Steel_4_week_logdyn               0.0029      0.000      6.510      0.000       0.002       0.004\n",
      "Glass_4_week_logdyn              -0.0041      0.000    -12.318      0.000      -0.005      -0.003\n",
      "Concrete_4_week_logdyn            0.0045      0.000     11.230      0.000       0.004       0.005\n",
      "Yield10Y_4_week_logdyn           -0.0024      0.000     -8.406      0.000      -0.003      -0.002\n",
      "DJI_4_week_logdyn                 0.0023      0.001      2.170      0.030       0.000       0.004\n",
      "S&P500_4_week_logdyn             -0.0029      0.001     -2.640      0.008      -0.005      -0.001\n",
      "KeyRate_13_week_logdyn            0.0059      0.001      8.789      0.000       0.005       0.007\n",
      "CPI_13_week_logdyn               -0.0057      0.001     -6.898      0.000      -0.007      -0.004\n",
      "VIX_13_week_logdyn               -0.0009      0.000     -2.037      0.042      -0.002   -3.58e-05\n",
      "PPI_13_week_logdyn               -0.0022      0.001     -2.254      0.024      -0.004      -0.000\n",
      "MortgageRate30_13_week_logdyn     0.0070      0.001      8.762      0.000       0.005       0.009\n",
      "Water_13_week_logdyn             -0.0040      0.000    -13.645      0.000      -0.005      -0.003\n",
      "Plywood_13_week_logdyn            0.0151      0.001     15.053      0.000       0.013       0.017\n",
      "Steel_13_week_logdyn              0.0032      0.001      3.275      0.001       0.001       0.005\n",
      "Glass_13_week_logdyn              0.0099      0.001     18.179      0.000       0.009       0.011\n",
      "Concrete_13_week_logdyn           0.0125      0.001     16.662      0.000       0.011       0.014\n",
      "Unemployment_13_week_logdyn       0.0034      0.001      4.919      0.000       0.002       0.005\n",
      "Yield10Y_13_week_logdyn          -0.0046      0.001     -5.947      0.000      -0.006      -0.003\n",
      "S&P500_13_week_logdyn             0.0023      0.001      4.230      0.000       0.001       0.003\n",
      "KeyRate_26_week_logdyn            0.0041      0.001      4.713      0.000       0.002       0.006\n",
      "CPI_26_week_logdyn               -0.0218      0.001    -19.082      0.000      -0.024      -0.020\n",
      "VIX_26_week_logdyn                0.0046      0.000     10.104      0.000       0.004       0.005\n",
      "PPI_26_week_logdyn                0.0103      0.001     11.863      0.000       0.009       0.012\n",
      "MortgageRate30_26_week_logdyn    -0.0125      0.001    -10.618      0.000      -0.015      -0.010\n",
      "Water_26_week_logdyn              0.0065      0.001     11.006      0.000       0.005       0.008\n",
      "Steel_26_week_logdyn             -0.0038      0.001     -3.150      0.002      -0.006      -0.001\n",
      "Glass_26_week_logdyn             -0.0013      0.001     -1.975      0.048      -0.003   -9.89e-06\n",
      "Concrete_26_week_logdyn           0.0031      0.001      2.901      0.004       0.001       0.005\n",
      "Unemployment_26_week_logdyn       0.0055      0.001      5.539      0.000       0.004       0.007\n",
      "Yield10Y_26_week_logdyn           0.0099      0.001      8.397      0.000       0.008       0.012\n",
      "DJI_26_week_logdyn                0.0062      0.001      9.739      0.000       0.005       0.007\n",
      "==============================================================================\n",
      "Omnibus:                     1887.443   Durbin-Watson:                   2.010\n",
      "Prob(Omnibus):                  0.000   Jarque-Bera (JB):             7888.647\n",
      "Skew:                           0.093   Prob(JB):                         0.00\n",
      "Kurtosis:                       5.403   Cond. No.                         709.\n",
      "==============================================================================\n",
      "\n",
      "Notes:\n",
      "[1] Standard Errors assume that the covariance matrix of the errors is correctly specified.\n",
      "Train score for OLS benchmark is:  11600.694\n",
      "Validation score for OLS benchmark is:  11630.265\n",
      "Test score for OLS benchmark is:  12375.693\n",
      "Test score for OLS benchmark on Case-Shiller data is:  8275.517\n",
      "\n",
      " OLS benchmark, 26 lag:\n",
      "                            OLS Regression Results                            \n",
      "==============================================================================\n",
      "Dep. Variable:     target_26_week_fut   R-squared:                       0.993\n",
      "Model:                            OLS   Adj. R-squared:                  0.993\n",
      "Method:                 Least Squares   F-statistic:                 8.454e+04\n",
      "Date:                Tue, 09 Apr 2024   Prob (F-statistic):               0.00\n",
      "Time:                        15:03:40   Log-Likelihood:                 53452.\n",
      "No. Observations:               31659   AIC:                        -1.068e+05\n",
      "Df Residuals:                   31606   BIC:                        -1.064e+05\n",
      "Df Model:                          52                                         \n",
      "Covariance Type:            nonrobust                                         \n",
      "=================================================================================================\n",
      "                                    coef    std err          t      P>|t|      [0.025      0.975]\n",
      "-------------------------------------------------------------------------------------------------\n",
      "const                             0.0757      0.006     11.685      0.000       0.063       0.088\n",
      "target                            0.9965      0.001   1906.055      0.000       0.996       0.998\n",
      "target_4_week_logdyn              0.0022      0.000      6.779      0.000       0.002       0.003\n",
      "target_13_week_logdyn            -0.0029      0.000     -6.284      0.000      -0.004      -0.002\n",
      "target_26_week_logdyn            -0.0124      0.000    -29.647      0.000      -0.013      -0.012\n",
      "KeyRate                          -0.0228      0.002    -15.011      0.000      -0.026      -0.020\n",
      "CPI                               0.0389      0.007      5.581      0.000       0.025       0.053\n",
      "VIX                              -0.0021      0.001     -2.479      0.013      -0.004      -0.000\n",
      "PPI                              -0.0237      0.005     -4.738      0.000      -0.034      -0.014\n",
      "MortgageRate30                   -0.0274      0.003     -9.475      0.000      -0.033      -0.022\n",
      "Electricity                       0.0289      0.006      4.706      0.000       0.017       0.041\n",
      "Water                             0.0783      0.004     19.099      0.000       0.070       0.086\n",
      "Plywood                           0.0135      0.003      4.636      0.000       0.008       0.019\n",
      "Glass                             0.1151      0.007     16.100      0.000       0.101       0.129\n",
      "Concrete                         -0.1680      0.009    -19.048      0.000      -0.185      -0.151\n",
      "Yield10Y                          0.0149      0.002      6.731      0.000       0.011       0.019\n",
      "S&P500                           -0.0427      0.004    -11.144      0.000      -0.050      -0.035\n",
      "KeyRate_4_week_logdyn             0.0024      0.000      6.192      0.000       0.002       0.003\n",
      "CPI_4_week_logdyn                -0.0028      0.001     -4.713      0.000      -0.004      -0.002\n",
      "VIX_4_week_logdyn                -0.0016      0.001     -3.026      0.002      -0.003      -0.001\n",
      "PPI_4_week_logdyn                 0.0021      0.001      3.292      0.001       0.001       0.003\n",
      "Electricity_4_week_logdyn        -0.0030      0.000     -6.643      0.000      -0.004      -0.002\n",
      "Water_4_week_logdyn              -0.0019      0.000     -5.531      0.000      -0.003      -0.001\n",
      "Plywood_4_week_logdyn            -0.0026      0.001     -4.018      0.000      -0.004      -0.001\n",
      "Glass_4_week_logdyn              -0.0028      0.000     -5.613      0.000      -0.004      -0.002\n",
      "Concrete_4_week_logdyn            0.0038      0.001      6.754      0.000       0.003       0.005\n",
      "Yield10Y_4_week_logdyn           -0.0013      0.000     -3.036      0.002      -0.002      -0.000\n",
      "DJI_4_week_logdyn                -0.0059      0.002     -3.872      0.000      -0.009      -0.003\n",
      "S&P500_4_week_logdyn              0.0046      0.002      2.807      0.005       0.001       0.008\n",
      "KeyRate_13_week_logdyn            0.0034      0.001      4.124      0.000       0.002       0.005\n",
      "CPI_13_week_logdyn               -0.0096      0.001    -10.329      0.000      -0.011      -0.008\n",
      "PPI_13_week_logdyn                0.0036      0.001      4.475      0.000       0.002       0.005\n",
      "Electricity_13_week_logdyn       -0.0064      0.001     -6.772      0.000      -0.008      -0.005\n",
      "Water_13_week_logdyn             -0.0029      0.000     -6.302      0.000      -0.004      -0.002\n",
      "Steel_13_week_logdyn              0.0183      0.001     13.487      0.000       0.016       0.021\n",
      "Glass_13_week_logdyn             -0.0046      0.001     -6.428      0.000      -0.006      -0.003\n",
      "Concrete_13_week_logdyn           0.0212      0.001     20.039      0.000       0.019       0.023\n",
      "Unemployment_13_week_logdyn       0.0057      0.001      7.617      0.000       0.004       0.007\n",
      "Yield10Y_13_week_logdyn          -0.0024      0.001     -3.433      0.001      -0.004      -0.001\n",
      "DJI_13_week_logdyn                0.0183      0.002      9.358      0.000       0.014       0.022\n",
      "S&P500_13_week_logdyn            -0.0117      0.002     -6.006      0.000      -0.015      -0.008\n",
      "KeyRate_26_week_logdyn           -0.0018      0.001     -1.967      0.049      -0.004   -6.11e-06\n",
      "VIX_26_week_logdyn                0.0068      0.001     10.245      0.000       0.006       0.008\n",
      "PPI_26_week_logdyn               -0.0070      0.001     -4.683      0.000      -0.010      -0.004\n",
      "MortgageRate30_26_week_logdyn     0.0035      0.001      3.611      0.000       0.002       0.005\n",
      "Electricity_26_week_logdyn        0.0091      0.002      6.001      0.000       0.006       0.012\n",
      "Water_26_week_logdyn              0.0133      0.001     15.388      0.000       0.012       0.015\n",
      "Plywood_26_week_logdyn           -0.0068      0.001     -5.012      0.000      -0.009      -0.004\n",
      "Steel_26_week_logdyn             -0.0205      0.002    -13.442      0.000      -0.024      -0.018\n",
      "Glass_26_week_logdyn             -0.0034      0.001     -2.647      0.008      -0.006      -0.001\n",
      "Concrete_26_week_logdyn          -0.0305      0.002    -19.706      0.000      -0.034      -0.027\n",
      "DJI_26_week_logdyn                0.0045      0.002      2.082      0.037       0.000       0.009\n",
      "S&P500_26_week_logdyn             0.0066      0.002      2.731      0.006       0.002       0.011\n",
      "==============================================================================\n",
      "Omnibus:                     1794.306   Durbin-Watson:                   2.010\n",
      "Prob(Omnibus):                  0.000   Jarque-Bera (JB):             7490.634\n",
      "Skew:                           0.069   Prob(JB):                         0.00\n",
      "Kurtosis:                       5.379   Cond. No.                         589.\n",
      "==============================================================================\n",
      "\n",
      "Notes:\n",
      "[1] Standard Errors assume that the covariance matrix of the errors is correctly specified.\n",
      "Train score for OLS benchmark is:  15885.396\n",
      "Validation score for OLS benchmark is:  15375.112\n",
      "Test score for OLS benchmark is:  16404.234\n",
      "Test score for OLS benchmark on Case-Shiller data is:  27636.263\n"
     ]
    }
   ],
   "source": [
    "# Iterate over lags to calculate OLS benchmarks\n",
    "for lag in lags:\n",
    "    fun.OLS_benchmark(lag, directory = directory)"
   ]
  }
 ],
 "metadata": {
  "kernelspec": {
   "display_name": "Python 3",
   "language": "python",
   "name": "python3"
  },
  "language_info": {
   "codemirror_mode": {
    "name": "ipython",
    "version": 3
   },
   "file_extension": ".py",
   "mimetype": "text/x-python",
   "name": "python",
   "nbconvert_exporter": "python",
   "pygments_lexer": "ipython3",
   "version": "3.10.10"
  }
 },
 "nbformat": 4,
 "nbformat_minor": 2
}
